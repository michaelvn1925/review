{
 "cells": [
  {
   "cell_type": "code",
   "execution_count": null,
   "id": "8a0993b1",
   "metadata": {},
   "outputs": [],
   "source": [
    "from bs4 import BeautifulSoup\n",
    "import requests\n",
    "from splinter import Browser\n",
    "from splinter.exceptions import ElementDoesNotExist\n",
    "import pandas as pd\n",
    "import time"
   ]
  },
  {
   "cell_type": "code",
   "execution_count": null,
   "id": "3c846485",
   "metadata": {},
   "outputs": [],
   "source": [
    "# pass the chrome executable path  and create an instance of the browser\n",
    "executable_path = {'executable_path': 'chromedriver'}\n",
    "browser = Browser('chrome', **executable_path, headless=False)"
   ]
  },
  {
   "cell_type": "code",
   "execution_count": null,
   "id": "9383324d",
   "metadata": {},
   "outputs": [],
   "source": [
    "# url for the NASA Mars News Site\n",
    "url = 'https://mars.nasa.gov/news/?page=0&per_page=40&order=publish_date+desc%2Ccreated_at+desc&search=&category=19%2C165%2C184%2C204&blank_scope=Latest'\n",
    "browser.visit(url)\n",
    "time.sleep(3)"
   ]
  },
  {
   "cell_type": "code",
   "execution_count": null,
   "id": "1e6484f1",
   "metadata": {},
   "outputs": [],
   "source": [
    "#dictionary  to load the news content \n",
    "news = {}\n",
    "\n",
    "# parse html and navigate \n",
    "html = browser.html\n",
    "soup = BeautifulSoup(html, 'html.parser')\n",
    "nl = '\\n'\n",
    "\n",
    "# Error handling\n",
    "try:\n",
    "        \n",
    "    # Identify and return news title\n",
    "    titles = soup.find_all(\"div\",class_=\"content_title\",limit = 2)\n",
    "    news_title = titles[1].a.text\n",
    "\n",
    "\n",
    "    # Identify and return paragraph text\n",
    "    paragraphs = soup.find_all(\"div\",class_=\"article_teaser_body\",limit=1)\n",
    "    news_p = paragraphs[0].text\n",
    "\n",
    "    # if both exists then load to the dictionary\n",
    "    if (news_title and news_p):\n",
    "\n",
    "        news = {'News Title' :news_title, 'Paragraph Text' :news_p }\n",
    "\n",
    "\n",
    "except ElementDoesNotExist:\n",
    "    \n",
    "    print(\"Error!\")"
   ]
  },
  {
   "cell_type": "code",
   "execution_count": null,
   "id": "79dc1a55",
   "metadata": {},
   "outputs": [],
   "source": [
    "# debugged\n",
    "\n",
    "print(f\"News Title : {news['News Title']}.{nl}{nl}Paragraph Text : {news['Paragraph Text']} {nl}\")"
   ]
  },
  {
   "cell_type": "code",
   "execution_count": null,
   "id": "3dfd3196",
   "metadata": {},
   "outputs": [],
   "source": [
    "browser.quit()"
   ]
  },
  {
   "cell_type": "code",
   "execution_count": null,
   "id": "93350838",
   "metadata": {},
   "outputs": [],
   "source": [
    "# pass the chrome executable path  and create an instance of the browser\n",
    "executable_path = {'executable_path': 'chromedriver'}\n",
    "browser = Browser('chrome', **executable_path, headless=False)"
   ]
  },
  {
   "cell_type": "code",
   "execution_count": null,
   "id": "0f93bf20",
   "metadata": {},
   "outputs": [],
   "source": [
    "# url for the JPL Mars Space Images\n",
    "url = \"https://www.jpl.nasa.gov/spaceimages/?search=&category=Mars\"\n",
    "browser.visit(url)\n",
    "time.sleep(3)"
   ]
  },
  {
   "cell_type": "code",
   "execution_count": null,
   "id": "a39a8ecc",
   "metadata": {},
   "outputs": [],
   "source": [
    "# Since, we are using only Splinter for this task \n",
    "# we are going to interact with few buttons and href clicks accordingly to finally fetch the URL for the full-size image url\n",
    "\"\"\" You click in buttons. Splinter follows any redirects, and submits forms associated with buttons.\"\"\"\n",
    "\n",
    "browser.find_link_by_partial_text('FULL IMAGE').first.click()\n",
    "time.sleep(3)\n",
    "browser.find_link_by_partial_text('more info').first.click()\n",
    "time.sleep(3)"
   ]
  },
  {
   "cell_type": "code",
   "execution_count": null,
   "id": "fa5261c0",
   "metadata": {},
   "outputs": [],
   "source": [
    "# parse html and navigate \n",
    "html = browser.html\n",
    "soup = BeautifulSoup(html, 'html.parser')\n",
    "\n",
    "# image title if needed for later use\n",
    "featured_image_title = soup.h1.text.strip()"
   ]
  },
  {
   "cell_type": "code",
   "execution_count": null,
   "id": "9745b03d",
   "metadata": {},
   "outputs": [],
   "source": [
    "# navigate to the side column to fetch the largest sized image \n",
    "browser.click_link_by_partial_text('1920 x 1200')\n",
    "\n",
    "time.sleep(3)\n",
    "\n",
    "# store it in the variable\n",
    "featured_image_url = browser.windows[1].url \n",
    " \n",
    "# designate current Image window as a window & close\n",
    "window = browser.windows[1] \n",
    "window.close()  \n",
    "\n",
    "# switch to the main window \n",
    "browser.windows[0]\n",
    "\n",
    "browser.quit()"
   ]
  },
  {
   "cell_type": "code",
   "execution_count": null,
   "id": "3e8dadc4",
   "metadata": {},
   "outputs": [],
   "source": [
    "# check if that worked\n",
    "featured_image_url"
   ]
  },
  {
   "cell_type": "code",
   "execution_count": null,
   "id": "5dd313fd",
   "metadata": {},
   "outputs": [],
   "source": [
    "# pass the chrome executable path  and create an instance of the browser\n",
    "executable_path = {'executable_path': 'chromedriver.exe'}\n",
    "browser = Browser('chrome', **executable_path, headless=False)"
   ]
  },
  {
   "cell_type": "code",
   "execution_count": null,
   "id": "52a68ea0",
   "metadata": {},
   "outputs": [],
   "source": [
    "# Visit the webpage for Mars Weather Twitter account\n",
    "url = \"https://twitter.com/marswxreport?lang=en\"\n",
    "browser.visit(url)\n",
    "time.sleep(3)"
   ]
  },
  {
   "cell_type": "code",
   "execution_count": null,
   "id": "210c72fc",
   "metadata": {},
   "outputs": [],
   "source": [
    "# parse the html and navigate through an instance of Beautiful Soup\n",
    "html = browser.html\n",
    "soup = BeautifulSoup(html, 'html.parser')"
   ]
  },
  {
   "cell_type": "code",
   "execution_count": null,
   "id": "1f1a3572",
   "metadata": {},
   "outputs": [],
   "source": [
    "# Inspect the webpage to find first child of the div and class ; the latest tweet\n",
    "#mars_weather = soup.body.find(\"div\",class_=\"css-901oao r-jwli3a r-1qd0xha r-a023e6 r-16dba41 r-ad9z0x r-bcqeeo r-bnwqim r-qvutc0\").text"
   ]
  },
  {
   "cell_type": "code",
   "execution_count": null,
   "id": "f801a5f1",
   "metadata": {},
   "outputs": [],
   "source": [
    "#check if that worked\n",
    "#mars_weather"
   ]
  },
  {
   "cell_type": "code",
   "execution_count": null,
   "id": "9c42776a",
   "metadata": {},
   "outputs": [],
   "source": [
    "# other way is to # chain the tags and navigate the parse tree\n",
    "result = soup.article.find_all(\"span\")[7].text"
   ]
  },
  {
   "cell_type": "code",
   "execution_count": null,
   "id": "83612f90",
   "metadata": {},
   "outputs": [],
   "source": [
    "# pass the chrome executable path  and create an instance of the browser\n",
    "executable_path = {'executable_path': 'chromedriver.exe'}\n",
    "browser = Browser('chrome', **executable_path, headless=False)"
   ]
  },
  {
   "cell_type": "code",
   "execution_count": null,
   "id": "ce5fe4a9",
   "metadata": {},
   "outputs": [],
   "source": [
    "# store url as string \n",
    "url = \"https://space-facts.com/mars/\""
   ]
  },
  {
   "cell_type": "code",
   "execution_count": null,
   "id": "49e8d355",
   "metadata": {},
   "outputs": [],
   "source": [
    "browser.visit(url)\n",
    "time.sleep(3)"
   ]
  },
  {
   "cell_type": "code",
   "execution_count": null,
   "id": "fe005f46",
   "metadata": {},
   "outputs": [],
   "source": [
    "# Navigate through the parse tree to find table elements\n",
    "html = browser.html\n",
    "soup = BeautifulSoup(html,'html.parser')\n",
    "\n",
    "results = soup.find_all(\"div\", class_=\"widget widget_text profiles\")"
   ]
  },
  {
   "cell_type": "code",
   "execution_count": null,
   "id": "a49d567e",
   "metadata": {},
   "outputs": [],
   "source": [
    "# declare lists to hold table columns\n",
    "col_1 = []\n",
    "col_2 = []\n",
    "\n",
    "# loop through the results \n",
    "for result in results:\n",
    "    # Error handling\n",
    "    try:\n",
    "        td_item = result.find_all('td', class_='column-1')\n",
    "        tr_item = result.find_all('td', class_='column-2')\n",
    "        \n",
    "        if(td_item and tr_item):\n",
    "            for el in td_item:\n",
    "                col_1.append(el.get_text())\n",
    "            for el in tr_item:\n",
    "                col_2.append(el.get_text())\n",
    "        \n",
    "    except AttributeError as e:\n",
    "        print(e)"
   ]
  },
  {
   "cell_type": "code",
   "execution_count": null,
   "id": "9cc09c26",
   "metadata": {},
   "outputs": [],
   "source": [
    "browser.quit()"
   ]
  },
  {
   "cell_type": "code",
   "execution_count": null,
   "id": "345b0c1f",
   "metadata": {},
   "outputs": [],
   "source": [
    "#load lists to a Dataframe and set column names\n",
    "mars_facts_df = pd.DataFrame({'Description':col_1,'Value':col_2})\n",
    "\n",
    "# check \n",
    "mars_facts_df"
   ]
  },
  {
   "cell_type": "code",
   "execution_count": null,
   "id": "937556a7",
   "metadata": {},
   "outputs": [],
   "source": [
    "# convert to HTML table string using pandas to_html method\n",
    "mars_facts_table = mars_facts_df.to_html()\n",
    "mars_data = {}\n",
    "mars_data['mars_facts_table'] = mars_facts_table"
   ]
  },
  {
   "cell_type": "code",
   "execution_count": null,
   "id": "2306e3cc",
   "metadata": {},
   "outputs": [],
   "source": [
    "# check if that worked\n",
    "mars_data['mars_facts_table']"
   ]
  },
  {
   "cell_type": "code",
   "execution_count": null,
   "id": "3a8cf758",
   "metadata": {},
   "outputs": [],
   "source": [
    "# pass the chrome executable path  and create an instance of the browser\n",
    "executable_path = {'executable_path': 'chromedriver.exe'}\n",
    "browser = Browser('chrome', **executable_path, headless=False)"
   ]
  },
  {
   "cell_type": "code",
   "execution_count": null,
   "id": "b7ae353c",
   "metadata": {},
   "outputs": [],
   "source": [
    "# create the url string\n",
    "url = \"https://astrogeology.usgs.gov/search/results?q=hemisphere+enhanced&k1=target&v1=Mars\""
   ]
  },
  {
   "cell_type": "code",
   "execution_count": null,
   "id": "342c3527",
   "metadata": {},
   "outputs": [],
   "source": [
    "#  parse html and navigate through the tree\n",
    "\n",
    "browser.visit(url)\n",
    "time.sleep(5)\n",
    "\n",
    "html = browser.html\n",
    "\n",
    "soup = BeautifulSoup(html, 'html.parser')"
   ]
  },
  {
   "cell_type": "code",
   "execution_count": null,
   "id": "9f684279",
   "metadata": {},
   "outputs": [],
   "source": []
  }
 ],
 "metadata": {
  "kernelspec": {
   "display_name": "Python 3 (ipykernel)",
   "language": "python",
   "name": "python3"
  },
  "language_info": {
   "codemirror_mode": {
    "name": "ipython",
    "version": 3
   },
   "file_extension": ".py",
   "mimetype": "text/x-python",
   "name": "python",
   "nbconvert_exporter": "python",
   "pygments_lexer": "ipython3",
   "version": "3.9.7"
  }
 },
 "nbformat": 4,
 "nbformat_minor": 5
}
